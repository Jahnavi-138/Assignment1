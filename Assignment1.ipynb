{
 "cells": [
  {
   "cell_type": "markdown",
   "metadata": {},
   "source": [
    "QUESTION1:TRY 5 DIFFERENT FUNCTIONS OF THE STRING IN PYTHON."
   ]
  },
  {
   "cell_type": "code",
   "execution_count": 1,
   "metadata": {
    "scrolled": true
   },
   "outputs": [
    {
     "name": "stdout",
     "output_type": "stream",
     "text": [
      "Hello\n",
      "0\n",
      "hii\n",
      "2\n",
      "False\n"
     ]
    }
   ],
   "source": [
    "j= \"hello\"\n",
    "J=j.capitalize()\n",
    "print(J)\n",
    "a=\"hii hello hii\"\n",
    "A=a.find(\"hii\")\n",
    "print(A)\n",
    "l=j.replace(\"hello\",\"hii\")\n",
    "print(l)\n",
    "n=\"hello everyone, hope everyone doing good\"\n",
    "N=n.count(\"everyone\")\n",
    "print(N)\n",
    "u=n.isalpha()\n",
    "print(u)"
   ]
  },
  {
   "cell_type": "markdown",
   "metadata": {},
   "source": [
    "QUESTION2:TRY 5 DIFFERENT OF THE LIST OBJECT IN PYTHON."
   ]
  },
  {
   "cell_type": "code",
   "execution_count": 6,
   "metadata": {},
   "outputs": [
    {
     "name": "stdout",
     "output_type": "stream",
     "text": [
      "[1, 2, 3, 4, 5]\n",
      "[5, 4, 3, 2, 1]\n",
      "[5, 3, 2, 1]\n",
      "[3, 2, 1]\n",
      "[]\n"
     ]
    }
   ],
   "source": [
    "num=[1,2,3,5]\n",
    "num.insert(3,4)\n",
    "print(num)\n",
    "num.reverse()\n",
    "print(num)\n",
    "num.remove(4)\n",
    "print(num)\n",
    "num.pop(0)\n",
    "print(num)\n",
    "num.clear()\n",
    "print(num)\n",
    "\n"
   ]
  },
  {
   "cell_type": "markdown",
   "metadata": {},
   "source": [
    "QUESTION3:EXPERIMENT WITH AT LEAST 5 DEFAULT FUNCTIONS OF DICTIONARY"
   ]
  },
  {
   "cell_type": "code",
   "execution_count": 15,
   "metadata": {},
   "outputs": [
    {
     "name": "stdout",
     "output_type": "stream",
     "text": [
      "dict_keys(['name', 'age', 'study'])\n",
      "dict_values(['jahnavi', 21, 'B.E.'])\n",
      "{'name': 'jahnavi', 'age': 20, 'study': 'B.E.'}\n",
      "{'name': 'jahnavi', 'age': 20}\n",
      "{}\n"
     ]
    }
   ],
   "source": [
    "girl = {'name':'jahnavi', 'age':21, 'study':'B.E.'}\n",
    "print(girl.keys())\n",
    "print(girl.values())\n",
    "girls={'age': 20}\n",
    "girl.update(girls)\n",
    "print(girl)\n",
    "girl.popitem()\n",
    "print(girl)\n",
    "girl.clear()\n",
    "print(girl)"
   ]
  },
  {
   "cell_type": "code",
   "execution_count": null,
   "metadata": {},
   "outputs": [],
   "source": []
  }
 ],
 "metadata": {
  "kernelspec": {
   "display_name": "Python 3",
   "language": "python",
   "name": "python3"
  },
  "language_info": {
   "codemirror_mode": {
    "name": "ipython",
    "version": 3
   },
   "file_extension": ".py",
   "mimetype": "text/x-python",
   "name": "python",
   "nbconvert_exporter": "python",
   "pygments_lexer": "ipython3",
   "version": "3.8.5"
  }
 },
 "nbformat": 4,
 "nbformat_minor": 4
}
